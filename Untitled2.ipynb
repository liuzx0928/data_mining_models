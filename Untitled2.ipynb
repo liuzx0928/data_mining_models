{
  "cells": [
    {
      "cell_type": "markdown",
      "metadata": {
        "id": "view-in-github",
        "colab_type": "text"
      },
      "source": [
        "<a href=\"https://colab.research.google.com/github/liuzx0928/data_mining_models/blob/master/Untitled2.ipynb\" target=\"_parent\"><img src=\"https://colab.research.google.com/assets/colab-badge.svg\" alt=\"Open In Colab\"/></a>"
      ]
    },
    {
      "cell_type": "code",
      "execution_count": 1,
      "metadata": {
        "colab": {
          "base_uri": "https://localhost:8080/"
        },
        "id": "diVxLp81NIhi",
        "outputId": "8aee1d8c-8d62-4537-fac8-dd792bed6488"
      },
      "outputs": [
        {
          "output_type": "stream",
          "name": "stdout",
          "text": [
            "Collecting rdkit-pypi\n",
            "  Downloading rdkit_pypi-2022.9.5-cp311-cp311-manylinux_2_17_x86_64.manylinux2014_x86_64.whl.metadata (3.9 kB)\n",
            "Requirement already satisfied: numpy in /usr/local/lib/python3.11/dist-packages (from rdkit-pypi) (2.0.2)\n",
            "Requirement already satisfied: Pillow in /usr/local/lib/python3.11/dist-packages (from rdkit-pypi) (11.1.0)\n",
            "Downloading rdkit_pypi-2022.9.5-cp311-cp311-manylinux_2_17_x86_64.manylinux2014_x86_64.whl (29.4 MB)\n",
            "\u001b[2K   \u001b[90m━━━━━━━━━━━━━━━━━━━━━━━━━━━━━━━━━━━━━━━━\u001b[0m \u001b[32m29.4/29.4 MB\u001b[0m \u001b[31m12.6 MB/s\u001b[0m eta \u001b[36m0:00:00\u001b[0m\n",
            "\u001b[?25hInstalling collected packages: rdkit-pypi\n",
            "Successfully installed rdkit-pypi-2022.9.5\n",
            "Collecting flask_ngrok\n",
            "  Downloading flask_ngrok-0.0.25-py3-none-any.whl.metadata (1.8 kB)\n",
            "Requirement already satisfied: Flask>=0.8 in /usr/local/lib/python3.11/dist-packages (from flask_ngrok) (3.1.0)\n",
            "Requirement already satisfied: requests in /usr/local/lib/python3.11/dist-packages (from flask_ngrok) (2.32.3)\n",
            "Requirement already satisfied: Werkzeug>=3.1 in /usr/local/lib/python3.11/dist-packages (from Flask>=0.8->flask_ngrok) (3.1.3)\n",
            "Requirement already satisfied: Jinja2>=3.1.2 in /usr/local/lib/python3.11/dist-packages (from Flask>=0.8->flask_ngrok) (3.1.6)\n",
            "Requirement already satisfied: itsdangerous>=2.2 in /usr/local/lib/python3.11/dist-packages (from Flask>=0.8->flask_ngrok) (2.2.0)\n",
            "Requirement already satisfied: click>=8.1.3 in /usr/local/lib/python3.11/dist-packages (from Flask>=0.8->flask_ngrok) (8.1.8)\n",
            "Requirement already satisfied: blinker>=1.9 in /usr/local/lib/python3.11/dist-packages (from Flask>=0.8->flask_ngrok) (1.9.0)\n",
            "Requirement already satisfied: charset-normalizer<4,>=2 in /usr/local/lib/python3.11/dist-packages (from requests->flask_ngrok) (3.4.1)\n",
            "Requirement already satisfied: idna<4,>=2.5 in /usr/local/lib/python3.11/dist-packages (from requests->flask_ngrok) (3.10)\n",
            "Requirement already satisfied: urllib3<3,>=1.21.1 in /usr/local/lib/python3.11/dist-packages (from requests->flask_ngrok) (2.3.0)\n",
            "Requirement already satisfied: certifi>=2017.4.17 in /usr/local/lib/python3.11/dist-packages (from requests->flask_ngrok) (2025.1.31)\n",
            "Requirement already satisfied: MarkupSafe>=2.0 in /usr/local/lib/python3.11/dist-packages (from Jinja2>=3.1.2->Flask>=0.8->flask_ngrok) (3.0.2)\n",
            "Downloading flask_ngrok-0.0.25-py3-none-any.whl (3.1 kB)\n",
            "Installing collected packages: flask_ngrok\n",
            "Successfully installed flask_ngrok-0.0.25\n"
          ]
        }
      ],
      "source": [
        "!pip install rdkit-pypi\n",
        "!pip install flask_ngrok  # 用于临时API部署"
      ]
    },
    {
      "cell_type": "code",
      "execution_count": 3,
      "metadata": {
        "id": "q_8ffOw2NUFp"
      },
      "outputs": [],
      "source": [
        "from rdkit import Chem\n",
        "from rdkit.Chem import Descriptors\n",
        "import pandas as pd\n",
        "from sklearn.ensemble import RandomForestRegressor\n",
        "from sklearn.model_selection import train_test_split\n",
        "import joblib  # 用于保存模型\n",
        "\n",
        "# 示例数据：SMILES字符串和对应的分子量（实际应用中需更多数据）\n",
        "data = {\n",
        "    'smiles': ['CCO', 'CCN', 'C1=CC=CC=C1', 'O=C=O'],\n",
        "    'target': [46.07, 45.08, 78.11, 44.01]\n",
        "}\n",
        "df = pd.DataFrame(data)\n",
        "\n"
      ]
    },
    {
      "cell_type": "code",
      "execution_count": 4,
      "metadata": {
        "colab": {
          "base_uri": "https://localhost:8080/"
        },
        "id": "qU5DDMYywHnb",
        "outputId": "03830e35-dc50-4aab-ccab-5acbb3066f74"
      },
      "outputs": [
        {
          "output_type": "stream",
          "name": "stdout",
          "text": [
            "--2025-04-21 13:06:16--  https://raw.githubusercontent.com/rdkit/rdkit/master/Contrib/SA_Score/sascorer.py\n",
            "Resolving raw.githubusercontent.com (raw.githubusercontent.com)... 185.199.108.133, 185.199.109.133, 185.199.111.133, ...\n",
            "Connecting to raw.githubusercontent.com (raw.githubusercontent.com)|185.199.108.133|:443... connected.\n",
            "HTTP request sent, awaiting response... 200 OK\n",
            "Length: 5913 (5.8K) [text/plain]\n",
            "Saving to: ‘sascorer.py’\n",
            "\n",
            "sascorer.py         100%[===================>]   5.77K  --.-KB/s    in 0s      \n",
            "\n",
            "2025-04-21 13:06:17 (53.4 MB/s) - ‘sascorer.py’ saved [5913/5913]\n",
            "\n",
            "--2025-04-21 13:06:17--  https://raw.githubusercontent.com/rdkit/rdkit/master/Contrib/SA_Score/fpscores.pkl.gz\n",
            "Resolving raw.githubusercontent.com (raw.githubusercontent.com)... 185.199.109.133, 185.199.108.133, 185.199.110.133, ...\n",
            "Connecting to raw.githubusercontent.com (raw.githubusercontent.com)|185.199.109.133|:443... connected.\n",
            "HTTP request sent, awaiting response... 200 OK\n",
            "Length: 3848394 (3.7M) [application/octet-stream]\n",
            "Saving to: ‘fpscores.pkl.gz’\n",
            "\n",
            "fpscores.pkl.gz     100%[===================>]   3.67M  --.-KB/s    in 0.08s   \n",
            "\n",
            "2025-04-21 13:06:17 (45.0 MB/s) - ‘fpscores.pkl.gz’ saved [3848394/3848394]\n",
            "\n"
          ]
        }
      ],
      "source": [
        "!wget -O sascorer.py https://raw.githubusercontent.com/rdkit/rdkit/master/Contrib/SA_Score/sascorer.py\n",
        "!wget -O fpscores.pkl.gz https://raw.githubusercontent.com/rdkit/rdkit/master/Contrib/SA_Score/fpscores.pkl.gz"
      ]
    },
    {
      "cell_type": "code",
      "execution_count": 6,
      "metadata": {
        "colab": {
          "base_uri": "https://localhost:8080/"
        },
        "id": "xz9k7y-g3PM6",
        "outputId": "c031c178-9f8e-472e-980c-fe7ecd9ccc5d"
      },
      "outputs": [
        {
          "output_type": "stream",
          "name": "stdout",
          "text": [
            "分子结构验证成功！\n",
            "SA-score: 1.58\n"
          ]
        }
      ],
      "source": [
        "smiles = \"O=C(C)Oc1ccccc1C(=O)O\" #C[N+](C)(C)C\n",
        "import sascorer\n",
        "mol = Chem.MolFromSmiles(smiles)\n",
        "\n",
        "if mol is not None:\n",
        "    print(f\"分子结构验证成功！\")\n",
        "    score = sascorer.calculateScore(mol)\n",
        "    if score is not None:\n",
        "        print(f\"SA-score: {score:.2f}\")  # 示例输出: SA-score: 3.21\n",
        "    else:\n",
        "        print(\"SA-score计算失败\")\n",
        "else:\n",
        "    print(\"SMILES解析失败，请检查结构！\")"
      ]
    },
    {
      "cell_type": "code",
      "execution_count": 7,
      "metadata": {
        "colab": {
          "base_uri": "https://localhost:8080/"
        },
        "id": "xmd_G1MK5Mom",
        "outputId": "a4dfb11b-018c-4abb-a6cb-cd2783c10ff3"
      },
      "outputs": [
        {
          "output_type": "stream",
          "name": "stdout",
          "text": [
            "\n",
            "    测试结果：\n",
            "    SMILES: O=C(C)Oc1ccccc1C(=O)O\n",
            "    SA-score: 1.58\n",
            "    错误信息: 无\n",
            "    \n"
          ]
        }
      ],
      "source": [
        "from rdkit import Chem\n",
        "import sascorer\n",
        "\n",
        "# 禁用RDKit冗余警告\n",
        "# RDLogger.DisableLog('rdApp.*')\n",
        "\n",
        "def calculate_sa_score(smiles: str) -> dict:\n",
        "    \"\"\"\n",
        "    计算SMILES对应分子的SA-score\n",
        "\n",
        "    参数：\n",
        "        smiles (str): 分子SMILES字符串\n",
        "\n",
        "    返回：\n",
        "        dict: 包含score、error、smiles的结果字典\n",
        "    \"\"\"\n",
        "    result = {\"smiles\": smiles, \"score\": None, \"error\": None}\n",
        "\n",
        "    try:\n",
        "        # Step 1: SMILES解析\n",
        "        mol = Chem.MolFromSmiles(smiles)\n",
        "        if not mol:\n",
        "            result[\"error\"] = \"SMILES解析失败\"\n",
        "            return result\n",
        "\n",
        "        # Step 2: SA-score计算\n",
        "        score = sascorer.calculateScore(mol)\n",
        "        if score is None:\n",
        "            result[\"error\"] = \"SA-score计算失败\"\n",
        "        else:\n",
        "            result[\"score\"] = round(float(score), 2)\n",
        "\n",
        "    except Exception as e:\n",
        "        result[\"error\"] = f\"计算异常: {str(e)}\"\n",
        "\n",
        "    return result\n",
        "\n",
        "# 测试用例\n",
        "if __name__ == \"__main__\":\n",
        "    test_smiles = \"O=C(C)Oc1ccccc1C(=O)O\"  # 阿司匹林\n",
        "    res = calculate_sa_score(test_smiles)\n",
        "    print(f\"\"\"\n",
        "    测试结果：\n",
        "    SMILES: {res['smiles']}\n",
        "    SA-score: {res['score'] or 'N/A'}\n",
        "    错误信息: {res['error'] or '无'}\n",
        "    \"\"\")"
      ]
    },
    {
      "cell_type": "code",
      "execution_count": null,
      "metadata": {
        "colab": {
          "base_uri": "https://localhost:8080/"
        },
        "id": "WX9idQWV5h-Q",
        "outputId": "5b88dae4-bb30-4b95-c5ca-6dc29f9d0d39"
      },
      "outputs": [
        {
          "name": "stdout",
          "output_type": "stream",
          "text": [
            "🔥 API访问地址: https://15d5-35-190-131-142.ngrok-free.app/sa-score\n"
          ]
        },
        {
          "name": "stderr",
          "output_type": "stream",
          "text": [
            "INFO:     Started server process [339]\n",
            "INFO:     Waiting for application startup.\n",
            "INFO:     Application startup complete.\n",
            "INFO:     Uvicorn running on http://0.0.0.0:8000 (Press CTRL+C to quit)\n"
          ]
        },
        {
          "name": "stdout",
          "output_type": "stream",
          "text": [
            "INFO:     117.50.223.91:0 - \"POST /sa-score HTTP/1.1\" 200 OK\n",
            "INFO:     117.50.223.91:0 - \"POST /sa-score HTTP/1.1\" 200 OK\n"
          ]
        },
        {
          "name": "stderr",
          "output_type": "stream",
          "text": [
            "INFO:     Shutting down\n",
            "INFO:     Waiting for application shutdown.\n",
            "INFO:     Application shutdown complete.\n",
            "INFO:     Finished server process [339]\n"
          ]
        }
      ],
      "source": [
        "#测单一一个smiles的\n",
        "from fastapi import FastAPI\n",
        "from pydantic import BaseModel\n",
        "import nest_asyncio\n",
        "from pyngrok import ngrok\n",
        "\n",
        "# 创建API应用\n",
        "app = FastAPI(title=\"SA-score计算服务\")\n",
        "\n",
        "# 定义请求体模型\n",
        "class SMILESRequest(BaseModel):\n",
        "    smiles: str\n",
        "\n",
        "# API端点\n",
        "@app.post(\"/sa-score\")\n",
        "async def get_sa_score(request: SMILESRequest):\n",
        "    result = calculate_sa_score(request.smiles)\n",
        "\n",
        "    if result[\"error\"]:\n",
        "        return {\n",
        "            \"status\": \"error\",\n",
        "            \"message\": result[\"error\"],\n",
        "            \"data\": None\n",
        "        }\n",
        "    else:\n",
        "        return {\n",
        "            \"status\": \"success\",\n",
        "            \"data\": {\n",
        "                \"smiles\": result[\"smiles\"],\n",
        "                \"sa_score\": result[\"score\"]\n",
        "            }\n",
        "        }\n",
        "\n",
        "# 在Colab中启动服务\n",
        "if __name__ == \"__main__\":\n",
        "    # 设置ngrok令牌（替换为你的真实令牌）\n",
        "    ngrok.set_auth_token(\"2vzvCxX7o4hfDg7XKuGeWaIK12C_4xV7QRwaqAhQKHkme11GH\")\n",
        "\n",
        "    # 启动服务\n",
        "    nest_asyncio.apply()\n",
        "    public_url = ngrok.connect(8000).public_url\n",
        "    print(f\"🔥 API访问地址: {public_url}/sa-score\")\n",
        "\n",
        "    # 启动FastAPI\n",
        "    import uvicorn\n",
        "    uvicorn.run(app, host=\"0.0.0.0\", port=8000)"
      ]
    },
    {
      "cell_type": "code",
      "execution_count": 8,
      "metadata": {
        "colab": {
          "base_uri": "https://localhost:8080/"
        },
        "id": "Ltl9AmkxPFHw",
        "outputId": "d7a9232d-46b1-4e49-87c8-16a2e1907a23"
      },
      "outputs": [
        {
          "output_type": "stream",
          "name": "stdout",
          "text": [
            "Mounted at /content/drive\n"
          ]
        }
      ],
      "source": [
        "from google.colab import drive\n",
        "drive.mount('/content/drive')  # 挂载Google Drive"
      ]
    },
    {
      "cell_type": "code",
      "execution_count": 10,
      "metadata": {
        "colab": {
          "base_uri": "https://localhost:8080/"
        },
        "id": "CrY9lE_apdcH",
        "outputId": "555b5f0c-a70d-4fc6-ff4d-97b8c10c8824"
      },
      "outputs": [
        {
          "output_type": "stream",
          "name": "stdout",
          "text": [
            "Collecting fastapi\n",
            "  Downloading fastapi-0.115.12-py3-none-any.whl.metadata (27 kB)\n",
            "Collecting uvicorn\n",
            "  Downloading uvicorn-0.34.2-py3-none-any.whl.metadata (6.5 kB)\n",
            "Requirement already satisfied: nest-asyncio in /usr/local/lib/python3.11/dist-packages (1.6.0)\n",
            "Collecting pyngrok\n",
            "  Downloading pyngrok-7.2.4-py3-none-any.whl.metadata (8.7 kB)\n",
            "Collecting starlette<0.47.0,>=0.40.0 (from fastapi)\n",
            "  Downloading starlette-0.46.2-py3-none-any.whl.metadata (6.2 kB)\n",
            "Requirement already satisfied: pydantic!=1.8,!=1.8.1,!=2.0.0,!=2.0.1,!=2.1.0,<3.0.0,>=1.7.4 in /usr/local/lib/python3.11/dist-packages (from fastapi) (2.11.3)\n",
            "Requirement already satisfied: typing-extensions>=4.8.0 in /usr/local/lib/python3.11/dist-packages (from fastapi) (4.13.2)\n",
            "Requirement already satisfied: click>=7.0 in /usr/local/lib/python3.11/dist-packages (from uvicorn) (8.1.8)\n",
            "Requirement already satisfied: h11>=0.8 in /usr/local/lib/python3.11/dist-packages (from uvicorn) (0.14.0)\n",
            "Requirement already satisfied: PyYAML>=5.1 in /usr/local/lib/python3.11/dist-packages (from pyngrok) (6.0.2)\n",
            "Requirement already satisfied: annotated-types>=0.6.0 in /usr/local/lib/python3.11/dist-packages (from pydantic!=1.8,!=1.8.1,!=2.0.0,!=2.0.1,!=2.1.0,<3.0.0,>=1.7.4->fastapi) (0.7.0)\n",
            "Requirement already satisfied: pydantic-core==2.33.1 in /usr/local/lib/python3.11/dist-packages (from pydantic!=1.8,!=1.8.1,!=2.0.0,!=2.0.1,!=2.1.0,<3.0.0,>=1.7.4->fastapi) (2.33.1)\n",
            "Requirement already satisfied: typing-inspection>=0.4.0 in /usr/local/lib/python3.11/dist-packages (from pydantic!=1.8,!=1.8.1,!=2.0.0,!=2.0.1,!=2.1.0,<3.0.0,>=1.7.4->fastapi) (0.4.0)\n",
            "Requirement already satisfied: anyio<5,>=3.6.2 in /usr/local/lib/python3.11/dist-packages (from starlette<0.47.0,>=0.40.0->fastapi) (4.9.0)\n",
            "Requirement already satisfied: idna>=2.8 in /usr/local/lib/python3.11/dist-packages (from anyio<5,>=3.6.2->starlette<0.47.0,>=0.40.0->fastapi) (3.10)\n",
            "Requirement already satisfied: sniffio>=1.1 in /usr/local/lib/python3.11/dist-packages (from anyio<5,>=3.6.2->starlette<0.47.0,>=0.40.0->fastapi) (1.3.1)\n",
            "Downloading fastapi-0.115.12-py3-none-any.whl (95 kB)\n",
            "\u001b[2K   \u001b[90m━━━━━━━━━━━━━━━━━━━━━━━━━━━━━━━━━━━━━━━━\u001b[0m \u001b[32m95.2/95.2 kB\u001b[0m \u001b[31m3.9 MB/s\u001b[0m eta \u001b[36m0:00:00\u001b[0m\n",
            "\u001b[?25hDownloading uvicorn-0.34.2-py3-none-any.whl (62 kB)\n",
            "\u001b[2K   \u001b[90m━━━━━━━━━━━━━━━━━━━━━━━━━━━━━━━━━━━━━━━━\u001b[0m \u001b[32m62.5/62.5 kB\u001b[0m \u001b[31m4.2 MB/s\u001b[0m eta \u001b[36m0:00:00\u001b[0m\n",
            "\u001b[?25hDownloading pyngrok-7.2.4-py3-none-any.whl (23 kB)\n",
            "Downloading starlette-0.46.2-py3-none-any.whl (72 kB)\n",
            "\u001b[2K   \u001b[90m━━━━━━━━━━━━━━━━━━━━━━━━━━━━━━━━━━━━━━━━\u001b[0m \u001b[32m72.0/72.0 kB\u001b[0m \u001b[31m5.0 MB/s\u001b[0m eta \u001b[36m0:00:00\u001b[0m\n",
            "\u001b[?25hInstalling collected packages: uvicorn, pyngrok, starlette, fastapi\n",
            "Successfully installed fastapi-0.115.12 pyngrok-7.2.4 starlette-0.46.2 uvicorn-0.34.2\n"
          ]
        }
      ],
      "source": [
        "!pip install fastapi uvicorn nest-asyncio pyngrok"
      ]
    },
    {
      "cell_type": "code",
      "execution_count": 11,
      "metadata": {
        "id": "8lLHR9Li4NuA"
      },
      "outputs": [],
      "source": [
        "from rdkit import Chem\n",
        "from rdkit.Chem import Descriptors\n",
        "from rdkit.Chem import AllChem\n",
        "def check_rotatable_bonds(mol):\n",
        "    \"\"\"检查可旋转键是否少于5个\"\"\"\n",
        "    rotatable_bonds = Descriptors.NumRotatableBonds(mol)\n",
        "    return rotatable_bonds < 5\n",
        "\n",
        "def check_ring_size(mol):\n",
        "    \"\"\"检查无桥键环的大小是否小于9个原子\"\"\"\n",
        "    ring_info = mol.GetRingInfo()\n",
        "    for ring in ring_info.AtomRings():\n",
        "        if len(ring) >= 9:\n",
        "            return False\n",
        "    return True\n",
        "\n",
        "def check_smallest_ring_size(mol):\n",
        "    \"\"\"检查最小的环是否大于4个原子\"\"\"\n",
        "    ring_info = mol.GetRingInfo()\n",
        "    for ring in ring_info.AtomRings():\n",
        "        if len(ring) <= 4:\n",
        "            return False\n",
        "    return True\n",
        "\n",
        "def check_n_ring_distortion(mol):\n",
        "    \"\"\"检查N环中是否含有三键\"\"\"\n",
        "    ring_info = mol.GetRingInfo()\n",
        "    atom_rings = ring_info.AtomRings()\n",
        "    bond_rings = ring_info.BondRings()\n",
        "\n",
        "    for ring_idx, ring in enumerate(atom_rings):\n",
        "        contains_nitrogen = any(mol.GetAtomWithIdx(atom_idx).GetSymbol() == 'N' for atom_idx in ring)\n",
        "        if contains_nitrogen:\n",
        "            for bond_idx in bond_rings[ring_idx]:\n",
        "                bond = mol.GetBondWithIdx(bond_idx)\n",
        "                if bond.GetBondType() == Chem.rdchem.BondType.TRIPLE:\n",
        "                    return False\n",
        "    return True\n",
        "\n",
        "def check_c_to_n_ratio(mol):\n",
        "    \"\"\"检查C:N比例是否在4到20之间\"\"\"\n",
        "    num_c = sum(1 for atom in mol.GetAtoms() if atom.GetSymbol() == 'C')\n",
        "    num_n = sum(1 for atom in mol.GetAtoms() if atom.GetSymbol() == 'N')\n",
        "    if num_n == 0:  # 防止除以零\n",
        "        return True\n",
        "    ratio = num_c / num_n\n",
        "    return 4 < ratio < 20\n",
        "\n",
        "def check_nh_groups(mol):\n",
        "    \"\"\"检查是否含有NH⁺ 或 NH₃⁺ 基团\"\"\"\n",
        "    patt_nh_plus = Chem.MolFromSmarts('[NH+]')\n",
        "    patt_nh3_plus = Chem.MolFromSmarts('[NH3+]')\n",
        "    if mol.HasSubstructMatch(patt_nh_plus) or mol.HasSubstructMatch(patt_nh3_plus):\n",
        "        return False\n",
        "    return True\n",
        "\n",
        "def check_unfavorable_atoms_bonds(mol):\n",
        "    \"\"\"检查是否含有不利原子或键\"\"\"\n",
        "    unfavorable_patterns = [\n",
        "        Chem.MolFromSmarts('[O]'),\n",
        "        Chem.MolFromSmarts('[Si]'),\n",
        "        Chem.MolFromSmarts('[P]'),\n",
        "        Chem.MolFromSmarts('[S]'),\n",
        "        Chem.MolFromSmarts('[B]'),\n",
        "        Chem.MolFromSmarts('[F]'),\n",
        "        Chem.MolFromSmarts('C(=O)O'),   # -O-C=O-\n",
        "        Chem.MolFromSmarts('C=O'),      # -C=O\n",
        "        Chem.MolFromSmarts('N#N')       # N=N\n",
        "    ]\n",
        "    for pattern in unfavorable_patterns:\n",
        "        if mol.HasSubstructMatch(pattern):\n",
        "            return False\n",
        "    return True\n",
        "\n",
        "def screen_molecule(smiles):\n",
        "    \"\"\"输入SMILES，输出是否满足所有条件，以及不符合的条件\"\"\"\n",
        "    mol = Chem.MolFromSmiles(smiles)\n",
        "    if mol is None:\n",
        "        return False, [\"Invalid SMILES string\"]\n",
        "\n",
        "    checks = [\n",
        "        (\"Number of rotatable bonds (must be less than 5)\", check_rotatable_bonds),\n",
        "        (\"Ring size without bridge bonds (must be smaller than 9-membered rings)\", check_ring_size),\n",
        "        (\"Size of smallest rings (must be larger than 4-membered rings)\", check_smallest_ring_size),\n",
        "        (\"Distortion of N-rings (must not contain triple bonds in N-rings)\", check_n_ring_distortion),\n",
        "        (\"C to N ratio (must be more than 4 and less than 20)\", check_c_to_n_ratio),\n",
        "        (\"Presence of NH⁺ and NH₃⁺ groups (must not be contained)\", check_nh_groups),\n",
        "        (\"Presence of unfavorable atoms and bonds (must not contain O, Si, P, S, B, F, -O-C=O-, -C=O, or N=N)\", check_unfavorable_atoms_bonds)\n",
        "    ]\n",
        "\n",
        "    failed_checks = [name for name, check in checks if not check(mol)]\n",
        "\n",
        "    if failed_checks:\n",
        "        return False, failed_checks\n",
        "    return True, [\"All criteria are satisfied\"]\n"
      ]
    },
    {
      "cell_type": "code",
      "execution_count": 12,
      "metadata": {
        "colab": {
          "base_uri": "https://localhost:8080/"
        },
        "id": "0fdVZfqH4gC8",
        "outputId": "2f8b2416-e399-4ec9-b549-fe64653084cd"
      },
      "outputs": [
        {
          "output_type": "stream",
          "name": "stdout",
          "text": [
            "['Presence of unfavorable atoms and bonds (must not contain O, Si, P, S, B, F, -O-C=O-, -C=O, or N=N)']\n"
          ]
        }
      ],
      "source": [
        "smiles=\"O=C(C)Oc1ccccc1C(=O)O\"\n",
        "result=screen_molecule(smiles)\n",
        "print(result[1])"
      ]
    },
    {
      "cell_type": "code",
      "source": [
        "smiles=\"O=C(C)Oc1ccccc1C(=O)O\"\n",
        "result=calculate_sa_score(smiles)\n",
        "result = {\n",
        "            \"smiles\": smiles,\n",
        "            \"score\": score,\n",
        "            \"message\": error\n",
        "        }\n",
        "\n",
        "\n",
        "print(result)"
      ],
      "metadata": {
        "colab": {
          "base_uri": "https://localhost:8080/"
        },
        "id": "MeIdMuax55TZ",
        "outputId": "72ba2f98-467a-44c7-c97c-52044043a68b"
      },
      "execution_count": 23,
      "outputs": [
        {
          "output_type": "stream",
          "name": "stdout",
          "text": [
            "{'smiles': 'O=C(C)Oc1ccccc1C(=O)O', 'score': 'score', 'message': 'error'}\n"
          ]
        }
      ]
    },
    {
      "cell_type": "code",
      "execution_count": 13,
      "metadata": {
        "id": "LgR2VHf-6JGE"
      },
      "outputs": [],
      "source": [
        "%run /content/drive/MyDrive/smiles_sele.py"
      ]
    },
    {
      "cell_type": "code",
      "execution_count": 15,
      "metadata": {
        "colab": {
          "base_uri": "https://localhost:8080/"
        },
        "id": "SjhMlINB6zCU",
        "outputId": "e913addb-7d6a-4e9b-f3ec-9553b459e175"
      },
      "outputs": [
        {
          "output_type": "stream",
          "name": "stdout",
          "text": [
            "False\n",
            "['Invalid SMILES string']\n"
          ]
        },
        {
          "output_type": "stream",
          "name": "stderr",
          "text": [
            "[13:13:40] Explicit valence for atom # 5 N, 4, is greater than permitted\n"
          ]
        }
      ],
      "source": [
        "# import smiles_sele\n",
        "smiles=\"C1CCCC[NH3+]1\"\n",
        "result=screen_molecule(smiles)\n",
        "print(result[0])\n",
        "print(result[1])"
      ]
    },
    {
      "cell_type": "code",
      "execution_count": 68,
      "metadata": {
        "colab": {
          "base_uri": "https://localhost:8080/"
        },
        "id": "tp2yrT2V7YtW",
        "outputId": "ef234ce0-f959-40b3-f6d1-4b62a428c154"
      },
      "outputs": [
        {
          "output_type": "stream",
          "name": "stdout",
          "text": [
            "{'smiles': 'C', 'status': 'success', 'message': 'All criteria are satisfied'}\n",
            "All criteria are satisfied\n"
          ]
        }
      ],
      "source": [
        "def check_smiles(smiles: str):\n",
        "    result = screen_molecule(smiles)\n",
        "    if result[0]:\n",
        "        return {\n",
        "            \"smiles\": smiles,\n",
        "            \"status\": \"success\",\n",
        "            \"message\": ','.join(result[1])\n",
        "        }\n",
        "    else:\n",
        "        numbered_items = [f\"{i+1}. {item}\" for i, item in enumerate(result[1])]\n",
        "        message = \"\\n\".join(numbered_items)\n",
        "        return {\n",
        "            \"smiles\": smiles,\n",
        "            \"status\": \"error\",\n",
        "            \"message\": message\n",
        "\n",
        "        }\n",
        "result=check_smiles(\"C\")\n",
        "print(result)\n",
        "print(result['message'])\n"
      ]
    },
    {
      "cell_type": "code",
      "source": [
        "def check_smiles_list(smiles_list: list[str]):\n",
        "\n",
        "    results = []\n",
        "\n",
        "    for idx, smiles in enumerate(smiles_list, 1):\n",
        "        if not smiles.strip():  # 处理空字符串\n",
        "            result = {\n",
        "                \"status\": \"error\",\n",
        "                \"message\": \"空SMILES字符串\",\n",
        "                \"smiles\": smiles,\n",
        "            }\n",
        "            results.append(result)\n",
        "            continue\n",
        "\n",
        "        # 调用原有的单个SMILES检查逻辑\n",
        "        single_result = check_smiles(smiles)\n",
        "\n",
        "\n",
        "        results.append(single_result)\n",
        "\n",
        "    return results\n",
        "results = check_smiles_list([\"CCCCCN\",\"CCCC[N+](C)CC\",\"C1CC[NH2]C1\"])\n",
        "\n",
        "print(results[0])\n",
        "print(results[1])\n",
        "print(results[2])\n"
      ],
      "metadata": {
        "colab": {
          "base_uri": "https://localhost:8080/"
        },
        "id": "r0ibpKcKR6K6",
        "outputId": "ab8cb029-2fb2-44e0-e4d5-454e58686fb8"
      },
      "execution_count": 69,
      "outputs": [
        {
          "output_type": "stream",
          "name": "stdout",
          "text": [
            "{'smiles': 'CCCCCN', 'status': 'success', 'message': 'All criteria are satisfied'}\n",
            "{'smiles': 'CCCC[N+](C)CC', 'status': 'success', 'message': 'All criteria are satisfied'}\n",
            "{'smiles': 'C1CC[NH2]C1', 'status': 'error', 'message': '1. Invalid SMILES string'}\n"
          ]
        },
        {
          "output_type": "stream",
          "name": "stderr",
          "text": [
            "[08:58:14] Explicit valence for atom # 3 N, 4, is greater than permitted\n"
          ]
        }
      ]
    },
    {
      "cell_type": "code",
      "source": [
        "from fastapi import FastAPI\n",
        "from pydantic import BaseModel\n",
        "import nest_asyncio\n",
        "from pyngrok import ngrok\n",
        "\n",
        "# 创建API应用\n",
        "app = FastAPI(title=\"smiles校验服务\")\n",
        "\n",
        "# 定义请求体模型\n",
        "class SMILESRequest(BaseModel):\n",
        "    smiles: str\n",
        "\n",
        "# API端点\n",
        "@app.post(\"/check\")\n",
        "async def check_smiles(request: SMILESRequest):\n",
        "    result = screen_molecule(request.smiles)\n",
        "\n",
        "    if result[0]:\n",
        "        return {\n",
        "            \"status\": \"success\",\n",
        "            \"message\": ','.join(result[1])\n",
        "        }\n",
        "    else:\n",
        "        numbered_items = [f\"{i+1}. {item}\" for i, item in enumerate(result[1])]\n",
        "        message = \"\\n\".join(numbered_items)\n",
        "        return {\n",
        "            \"status\": \"error\",\n",
        "            \"message\": message\n",
        "\n",
        "        }\n",
        "        # API端点\n",
        "@app.post(\"/sa-score\")\n",
        "async def get_sa_score(request: SMILESRequest):\n",
        "    result = calculate_sa_score(request.smiles)\n",
        "\n",
        "    if result[\"error\"]:\n",
        "        return {\n",
        "            \"status\": \"error\",\n",
        "            \"message\": result[\"error\"],\n",
        "            \"data\": None\n",
        "        }\n",
        "    else:\n",
        "        return {\n",
        "            \"status\": \"success\",\n",
        "            \"message\": result[\"score\"], #分数\n",
        "            \"data\":result[\"smiles\"] #smiles\n",
        "\n",
        "        }\n",
        "\n",
        "\n",
        "# 在Colab中启动服务\n",
        "if __name__ == \"__main__\":\n",
        "    # 设置ngrok令牌（替换为你的真实令牌）\n",
        "    ngrok.set_auth_token(\"2vzvCxX7o4hfDg7XKuGeWaIK12C_4xV7QRwaqAhQKHkme11GH\")\n",
        "\n",
        "    # 启动服务\n",
        "    nest_asyncio.apply()\n",
        "    public_url = ngrok.connect(8000).public_url\n",
        "    print(f\"🔥 API访问地址: {public_url}/check\")\n",
        "    print(f\"🔥 API访问地址: {public_url}/sa-score\")\n",
        "\n",
        "    # 启动FastAPI\n",
        "    import uvicorn\n",
        "    uvicorn.run(app, host=\"0.0.0.0\", port=8000)"
      ],
      "metadata": {
        "colab": {
          "base_uri": "https://localhost:8080/"
        },
        "id": "U8dAsDcbXWls",
        "outputId": "ad7a2d04-a71f-47ee-d502-481578481c4a"
      },
      "execution_count": 72,
      "outputs": [
        {
          "output_type": "stream",
          "name": "stdout",
          "text": [
            "🔥 API访问地址: https://66d6-34-172-149-25.ngrok-free.app/check\n",
            "🔥 API访问地址: https://66d6-34-172-149-25.ngrok-free.app/sa-score\n"
          ]
        },
        {
          "output_type": "stream",
          "name": "stderr",
          "text": [
            "INFO:     Started server process [428]\n",
            "INFO:     Waiting for application startup.\n",
            "INFO:     Application startup complete.\n",
            "INFO:     Uvicorn running on http://0.0.0.0:8000 (Press CTRL+C to quit)\n"
          ]
        },
        {
          "output_type": "stream",
          "name": "stdout",
          "text": [
            "INFO:     185.227.134.180:0 - \"POST /check HTTP/1.1\" 200 OK\n",
            "INFO:     117.50.223.91:0 - \"POST /check HTTP/1.1\" 200 OK\n",
            "INFO:     117.50.223.91:0 - \"POST /check HTTP/1.1\" 200 OK\n"
          ]
        },
        {
          "output_type": "stream",
          "name": "stderr",
          "text": [
            "INFO:     Shutting down\n",
            "INFO:     Waiting for application shutdown.\n",
            "INFO:     Application shutdown complete.\n",
            "INFO:     Finished server process [428]\n"
          ]
        }
      ]
    },
    {
      "cell_type": "code",
      "source": [
        "from fastapi import FastAPI\n",
        "from pydantic import BaseModel\n",
        "import nest_asyncio\n",
        "from pyngrok import ngrok\n",
        "\n",
        "# 创建API应用\n",
        "app = FastAPI(title=\"smiles校验服务\")\n",
        "\n",
        "# 定义请求体模型\n",
        "class SMILESRequest(BaseModel):\n",
        "    smiles: str\n",
        "\n",
        "# API端点\n",
        "@app.post(\"/check\")\n",
        "async def check_smiles(request: SMILESRequest):\n",
        "    result = screen_molecule(request.smiles)\n",
        "\n",
        "    if result[0]:\n",
        "        return {\n",
        "            \"status\": \"success\",\n",
        "            \"message\": ','.join(result[1])\n",
        "        }\n",
        "    else:\n",
        "        numbered_items = [f\"{i+1}. {item}\" for i, item in enumerate(result[1])]\n",
        "        message = \"\\n\".join(numbered_items)\n",
        "        return {\n",
        "            \"status\": \"error\",\n",
        "            \"message\": message\n",
        "\n",
        "        }\n",
        "        # API端点\n",
        "@app.post(\"/sa-score\")\n",
        "async def get_sa_score(request: SMILESRequest):\n",
        "    result = calculate_sa_score(request.smiles)\n",
        "\n",
        "    if result[\"error\"]:\n",
        "        return {\n",
        "            \"status\": \"error\",\n",
        "            \"message\": result[\"error\"],\n",
        "            \"data\": None\n",
        "        }\n",
        "    else:\n",
        "        return {\n",
        "            \"status\": \"success\",\n",
        "            \"message\": result[\"score\"], #分数\n",
        "            \"data\":result[\"smiles\"] #smiles\n",
        "\n",
        "        }\n",
        "\n",
        "\n",
        "# 在Colab中启动服务\n",
        "if __name__ == \"__main__\":\n",
        "    # 设置ngrok令牌（替换为你的真实令牌）\n",
        "    ngrok.set_auth_token(\"2vzvCxX7o4hfDg7XKuGeWaIK12C_4xV7QRwaqAhQKHkme11GH\")\n",
        "\n",
        "    # 启动服务\n",
        "    nest_asyncio.apply()\n",
        "    public_url = ngrok.connect(8000).public_url\n",
        "    print(f\"🔥 API访问地址: {public_url}/check\")\n",
        "    print(f\"🔥 API访问地址: {public_url}/sa-score\")\n",
        "\n",
        "    # 启动FastAPI\n",
        "    import uvicorn\n",
        "    uvicorn.run(app, host=\"0.0.0.0\", port=8000)"
      ],
      "metadata": {
        "colab": {
          "base_uri": "https://localhost:8080/"
        },
        "outputId": "e8857932-7e19-4042-949a-e783fb6b2650",
        "id": "tLCpjBf5lS9D"
      },
      "execution_count": null,
      "outputs": [
        {
          "output_type": "stream",
          "name": "stdout",
          "text": [
            "🔥 API访问地址: https://b150-34-172-149-25.ngrok-free.app/check\n",
            "🔥 API访问地址: https://b150-34-172-149-25.ngrok-free.app/sa-score\n"
          ]
        },
        {
          "output_type": "stream",
          "name": "stderr",
          "text": [
            "INFO:     Started server process [428]\n",
            "INFO:     Waiting for application startup.\n",
            "INFO:     Application startup complete.\n",
            "INFO:     Uvicorn running on http://0.0.0.0:8000 (Press CTRL+C to quit)\n"
          ]
        },
        {
          "output_type": "stream",
          "name": "stdout",
          "text": [
            "INFO:     185.227.134.180:0 - \"POST /check HTTP/1.1\" 422 Unprocessable Entity\n",
            "INFO:     185.227.134.180:0 - \"POST /check HTTP/1.1\" 200 OK\n"
          ]
        },
        {
          "output_type": "stream",
          "name": "stderr",
          "text": [
            "INFO:     Shutting down\n",
            "INFO:     Waiting for application shutdown.\n",
            "INFO:     Application shutdown complete.\n",
            "INFO:     Finished server process [428]\n"
          ]
        }
      ]
    },
    {
      "cell_type": "code",
      "source": [
        "# 批量处理smiles的检验函数\n",
        "from typing import Dict, List\n",
        "from fastapi import FastAPI\n",
        "from pydantic import BaseModel\n",
        "import json\n",
        "from datetime import datetime\n",
        "from google.colab import drive\n",
        "\n",
        "# # 挂载Google Drive（用于保存结果）\n",
        "# drive.mount('/content/drive')\n",
        "# SAVE_PATH = \"/content/drive/MyDrive/sa_results/\"\n",
        "\n",
        "# 创建API应用\n",
        "app = FastAPI(title=\"SMILES批量校验服务\")\n",
        "\n",
        "# --- 定义请求模型 ---\n",
        "class SMILESRequest(BaseModel):\n",
        "    smiles: str\n",
        "\n",
        "class BatchSMILESRequest(BaseModel):\n",
        "    smiles_dict: Dict[str, str]  # 示例: {\"smiles1\": \"CCO\", \"smiles2\": \"CN\"}\n",
        "\n",
        "# --- 结果处理函数 ---\n",
        "def process_results(smiles_dict: Dict[str, str]) -> List[dict]:\n",
        "    results = []\n",
        "    for key, smiles in smiles_dict.items():\n",
        "        # 执行校验逻辑\n",
        "        status, messages = screen_molecule(smiles)\n",
        "\n",
        "        # 构建结果项\n",
        "        result = {\n",
        "            \"smiles\": smiles,\n",
        "            \"status\": \"success\" if status else \"error\",\n",
        "            \"message\": messages\n",
        "        }\n",
        "        results.append(result)\n",
        "\n",
        "        # # 保存到文件（可选）\n",
        "        # save_to_file(result)\n",
        "\n",
        "    return results\n",
        "\n",
        "# --- API端点 ---\n",
        "@app.post(\"/check\")\n",
        "async def single_check(request: SMILESRequest):\n",
        "    \"\"\"单个校验端点（保持原有）\"\"\"\n",
        "    status, messages = screen_molecule(request.smiles)\n",
        "    return {\n",
        "        \"smiles\": request.smiles,\n",
        "        \"status\": \"success\" if status else \"error\",\n",
        "        \"message\": messages\n",
        "    }\n",
        "\n",
        "@app.post(\"/check/batch\")\n",
        "async def batch_check(request: BatchSMILESRequest):\n",
        "    \"\"\"新增批量校验端点\"\"\"\n",
        "    return process_results(request.smiles_dict)\n",
        "\n",
        "\n",
        "# --- 服务启动 ---\n",
        "if __name__ == \"__main__\":\n",
        "    # 配置ngrok（替换为你的令牌）\n",
        "    from pyngrok import ngrok\n",
        "    ngrok.set_auth_token(\"2vzvCxX7o4hfDg7XKuGeWaIK12C_4xV7QRwaqAhQKHkme11GH\")\n",
        "\n",
        "    # 启动服务\n",
        "    import nest_asyncio\n",
        "    nest_asyncio.apply()\n",
        "\n",
        "    public_url = ngrok.connect(8000).public_url\n",
        "    print(f\"🔥 接口地址：\\n单个校验：{public_url}/check\\n批量校验：{public_url}/check/batch\")\n",
        "\n",
        "    import uvicorn\n",
        "    uvicorn.run(app, host=\"0.0.0.0\", port=8000)"
      ],
      "metadata": {
        "colab": {
          "base_uri": "https://localhost:8080/"
        },
        "id": "aE8Vp328msWn",
        "outputId": "e8c9b4a8-f41f-44f1-bea7-6b8606051e49"
      },
      "execution_count": 16,
      "outputs": [
        {
          "output_type": "stream",
          "name": "stdout",
          "text": []
        },
        {
          "output_type": "stream",
          "name": "stderr",
          "text": [
            "INFO:     Started server process [209]\n",
            "INFO:     Waiting for application startup.\n"
          ]
        },
        {
          "output_type": "stream",
          "name": "stdout",
          "text": [
            "🔥 接口地址：\n",
            "单个校验：https://4507-35-231-26-251.ngrok-free.app/check\n",
            "批量校验：https://4507-35-231-26-251.ngrok-free.app/check/batch\n"
          ]
        },
        {
          "output_type": "stream",
          "name": "stderr",
          "text": [
            "INFO:     Application startup complete.\n",
            "INFO:     Uvicorn running on http://0.0.0.0:8000 (Press CTRL+C to quit)\n"
          ]
        },
        {
          "output_type": "stream",
          "name": "stdout",
          "text": [
            "INFO:     185.227.134.180:0 - \"POST /check/batch HTTP/1.1\" 422 Unprocessable Entity\n",
            "INFO:     185.227.134.180:0 - \"POST /check/batch HTTP/1.1\" 200 OK\n",
            "INFO:     117.50.223.91:0 - \"POST /check/batch HTTP/1.1\" 200 OK\n",
            "INFO:     117.50.223.91:0 - \"POST /check/batch HTTP/1.1\" 200 OK\n"
          ]
        },
        {
          "output_type": "stream",
          "name": "stderr",
          "text": [
            "[14:13:09] Explicit valence for atom # 3 N, 4, is greater than permitted\n"
          ]
        },
        {
          "output_type": "stream",
          "name": "stdout",
          "text": [
            "INFO:     117.50.223.91:0 - \"POST /check/batch HTTP/1.1\" 200 OK\n"
          ]
        },
        {
          "output_type": "stream",
          "name": "stderr",
          "text": [
            "[14:14:00] Explicit valence for atom # 3 N, 4, is greater than permitted\n"
          ]
        },
        {
          "output_type": "stream",
          "name": "stdout",
          "text": [
            "INFO:     117.50.223.91:0 - \"POST /check/batch HTTP/1.1\" 200 OK\n"
          ]
        },
        {
          "output_type": "stream",
          "name": "stderr",
          "text": [
            "[14:15:28] Explicit valence for atom # 3 N, 4, is greater than permitted\n"
          ]
        },
        {
          "output_type": "stream",
          "name": "stdout",
          "text": [
            "INFO:     117.50.223.91:0 - \"POST /check/batch HTTP/1.1\" 200 OK\n"
          ]
        },
        {
          "output_type": "stream",
          "name": "stderr",
          "text": [
            "[14:15:51] Explicit valence for atom # 3 N, 4, is greater than permitted\n"
          ]
        },
        {
          "output_type": "stream",
          "name": "stdout",
          "text": [
            "INFO:     117.50.223.91:0 - \"POST /check/batch HTTP/1.1\" 200 OK\n"
          ]
        },
        {
          "output_type": "stream",
          "name": "stderr",
          "text": [
            "[14:16:10] Explicit valence for atom # 3 N, 4, is greater than permitted\n"
          ]
        },
        {
          "output_type": "stream",
          "name": "stdout",
          "text": [
            "INFO:     117.50.223.91:0 - \"POST /check/batch HTTP/1.1\" 200 OK\n"
          ]
        },
        {
          "output_type": "stream",
          "name": "stderr",
          "text": [
            "[14:17:03] Explicit valence for atom # 3 N, 4, is greater than permitted\n"
          ]
        },
        {
          "output_type": "stream",
          "name": "stdout",
          "text": [
            "INFO:     117.50.223.91:0 - \"POST /check/batch HTTP/1.1\" 200 OK\n"
          ]
        },
        {
          "output_type": "stream",
          "name": "stderr",
          "text": [
            "[14:18:30] Explicit valence for atom # 3 N, 4, is greater than permitted\n"
          ]
        },
        {
          "output_type": "stream",
          "name": "stdout",
          "text": [
            "INFO:     117.50.223.91:0 - \"POST /check/batch HTTP/1.1\" 200 OK\n"
          ]
        },
        {
          "output_type": "stream",
          "name": "stderr",
          "text": [
            "[14:23:50] Explicit valence for atom # 3 N, 4, is greater than permitted\n"
          ]
        },
        {
          "output_type": "stream",
          "name": "stdout",
          "text": [
            "INFO:     117.50.223.91:0 - \"POST /check/batch HTTP/1.1\" 200 OK\n"
          ]
        },
        {
          "output_type": "stream",
          "name": "stderr",
          "text": [
            "[14:28:08] Explicit valence for atom # 3 N, 4, is greater than permitted\n"
          ]
        },
        {
          "output_type": "stream",
          "name": "stdout",
          "text": [
            "INFO:     117.50.223.91:0 - \"POST /check/batch HTTP/1.1\" 200 OK\n"
          ]
        },
        {
          "output_type": "stream",
          "name": "stderr",
          "text": [
            "[14:45:12] Explicit valence for atom # 3 N, 4, is greater than permitted\n"
          ]
        },
        {
          "output_type": "stream",
          "name": "stdout",
          "text": [
            "INFO:     117.50.223.91:0 - \"POST /check/batch HTTP/1.1\" 200 OK\n"
          ]
        },
        {
          "output_type": "stream",
          "name": "stderr",
          "text": [
            "[14:53:01] Explicit valence for atom # 3 N, 4, is greater than permitted\n"
          ]
        },
        {
          "output_type": "stream",
          "name": "stdout",
          "text": [
            "INFO:     117.50.223.91:0 - \"POST /check/batch HTTP/1.1\" 200 OK\n"
          ]
        },
        {
          "output_type": "stream",
          "name": "stderr",
          "text": [
            "[14:53:12] Explicit valence for atom # 3 N, 4, is greater than permitted\n"
          ]
        },
        {
          "output_type": "stream",
          "name": "stdout",
          "text": [
            "INFO:     117.50.223.91:0 - \"POST /check/batch HTTP/1.1\" 200 OK\n"
          ]
        },
        {
          "output_type": "stream",
          "name": "stderr",
          "text": [
            "[14:53:27] Explicit valence for atom # 3 N, 4, is greater than permitted\n"
          ]
        },
        {
          "output_type": "stream",
          "name": "stdout",
          "text": [
            "INFO:     117.50.223.91:0 - \"POST /check/batch HTTP/1.1\" 200 OK\n"
          ]
        },
        {
          "output_type": "stream",
          "name": "stderr",
          "text": [
            "[14:53:36] Explicit valence for atom # 3 N, 4, is greater than permitted\n"
          ]
        },
        {
          "output_type": "stream",
          "name": "stdout",
          "text": [
            "INFO:     117.50.223.91:0 - \"POST /check/batch HTTP/1.1\" 200 OK\n"
          ]
        },
        {
          "output_type": "stream",
          "name": "stderr",
          "text": [
            "[14:53:56] Explicit valence for atom # 3 N, 4, is greater than permitted\n"
          ]
        },
        {
          "output_type": "stream",
          "name": "stdout",
          "text": [
            "INFO:     117.50.223.91:0 - \"POST /check/batch HTTP/1.1\" 200 OK\n"
          ]
        },
        {
          "output_type": "stream",
          "name": "stderr",
          "text": [
            "[14:57:08] Explicit valence for atom # 3 N, 4, is greater than permitted\n",
            "INFO:     Shutting down\n",
            "INFO:     Waiting for application shutdown.\n",
            "INFO:     Application shutdown complete.\n",
            "INFO:     Finished server process [209]\n"
          ]
        }
      ]
    },
    {
      "cell_type": "code",
      "source": [
        "# 可以成功运行\n",
        "from typing import Dict, List\n",
        "from fastapi import FastAPI\n",
        "from pydantic import BaseModel\n",
        "import json\n",
        "from datetime import datetime\n",
        "from google.colab import drive\n",
        "\n",
        "# # 挂载Google Drive（用于保存结果）\n",
        "# drive.mount('/content/drive')\n",
        "# SAVE_PATH = \"/content/drive/MyDrive/sa_results/\"\n",
        "\n",
        "# 创建API应用\n",
        "app = FastAPI(title=\"SMILES批量校验服务\")\n",
        "\n",
        "# --- 定义请求模型 ---\n",
        "class SMILESRequest(BaseModel):\n",
        "    smiles: str\n",
        "\n",
        "class BatchSMILESRequest(BaseModel):\n",
        "    smiles_dict: Dict[str, str]  # 示例: {\"smiles1\": \"CCO\", \"smiles2\": \"CN\"}\n",
        "\n",
        "# --- 结果处理函数 ---\n",
        "def process_results(smiles_dict: Dict[str, str]) -> List[dict]:\n",
        "    results = []\n",
        "    for key, smiles in smiles_dict.items():\n",
        "        # 执行校验逻辑\n",
        "        status, messages = screen_molecule(smiles)\n",
        "\n",
        "        # 构建结果项\n",
        "        result = {\n",
        "            \"smiles\": smiles,\n",
        "            \"status\": \"success\" if status else \"error\",\n",
        "            \"message\": messages\n",
        "        }\n",
        "        results.append(result)\n",
        "\n",
        "        # # 保存到文件（可选）\n",
        "        # save_to_file(result)\n",
        "\n",
        "    return results\n",
        "\n",
        "def process_results_sa(smiles_dict: Dict[str, str]) -> List[dict]:\n",
        "    results = []\n",
        "    for key, smiles in smiles_dict.items():\n",
        "        # 执行校验逻辑\n",
        "        result = calculate_sa_score(smiles)\n",
        "\n",
        "        results.append(result)\n",
        "\n",
        "    return results\n",
        "\n",
        "# --- API端点 ---\n",
        "@app.post(\"/check\")\n",
        "async def single_check(request: SMILESRequest):\n",
        "    \"\"\"单个校验端点（保持原有）\"\"\"\n",
        "    status, messages = screen_molecule(request.smiles)\n",
        "    return {\n",
        "        \"smiles\": request.smiles,\n",
        "        \"status\": \"success\" if status else \"error\",\n",
        "        \"message\": messages\n",
        "    }\n",
        "\n",
        "@app.post(\"/check/batch\")\n",
        "async def batch_check(request: BatchSMILESRequest):\n",
        "    \"\"\"新增批量校验端点\"\"\"\n",
        "    return process_results(request.smiles_dict)\n",
        "\n",
        "@app.post(\"/batch_sa_score\")\n",
        "async def batch_sa_score_api(request: BatchSMILESRequest):\n",
        "    \"\"\"批量计算SA Score的API端点\"\"\"\n",
        "    return process_results_sa(request.smiles_dict)\n",
        "\n",
        "# --- 服务启动 ---\n",
        "if __name__ == \"__main__\":\n",
        "    # 配置ngrok（替换为你的令牌）\n",
        "    from pyngrok import ngrok\n",
        "    ngrok.set_auth_token(\"2vzvCxX7o4hfDg7XKuGeWaIK12C_4xV7QRwaqAhQKHkme11GH\")\n",
        "\n",
        "    # 启动服务\n",
        "    import nest_asyncio\n",
        "    nest_asyncio.apply()\n",
        "\n",
        "    public_url = ngrok.connect(8000).public_url\n",
        "    print(f\"🔥 接口地址：\\n单个校验：{public_url}/check\\n批量校验：{public_url}/check/batch\\n批量计算SA score：{public_url}/batch_sa_score\")\n",
        "\n",
        "    import uvicorn\n",
        "    uvicorn.run(app, host=\"0.0.0.0\", port=8000)"
      ],
      "metadata": {
        "colab": {
          "base_uri": "https://localhost:8080/"
        },
        "id": "a1RuAmz25D1h",
        "outputId": "255abc8c-f7b3-4186-a4da-ef45b0f28db1"
      },
      "execution_count": 24,
      "outputs": [
        {
          "output_type": "stream",
          "name": "stdout",
          "text": [
            "🔥 接口地址：\n",
            "单个校验：https://627a-35-231-26-251.ngrok-free.app/check\n",
            "批量校验：https://627a-35-231-26-251.ngrok-free.app/check/batch\n",
            "批量计算SA score：https://627a-35-231-26-251.ngrok-free.app/batch_sa_score\n"
          ]
        },
        {
          "output_type": "stream",
          "name": "stderr",
          "text": [
            "INFO:     Started server process [209]\n",
            "INFO:     Waiting for application startup.\n",
            "INFO:     Application startup complete.\n",
            "INFO:     Uvicorn running on http://0.0.0.0:8000 (Press CTRL+C to quit)\n",
            "ERROR:asyncio:Task exception was never retrieved\n",
            "future: <Task finished name='Task-45' coro=<Server.serve() done, defined at /usr/local/lib/python3.11/dist-packages/uvicorn/server.py:68> exception=KeyboardInterrupt()>\n",
            "Traceback (most recent call last):\n",
            "  File \"/usr/local/lib/python3.11/dist-packages/uvicorn/main.py\", line 580, in run\n",
            "    server.run()\n",
            "  File \"/usr/local/lib/python3.11/dist-packages/uvicorn/server.py\", line 66, in run\n",
            "    return asyncio.run(self.serve(sockets=sockets))\n",
            "           ^^^^^^^^^^^^^^^^^^^^^^^^^^^^^^^^^^^^^^^^\n",
            "  File \"/usr/local/lib/python3.11/dist-packages/nest_asyncio.py\", line 30, in run\n",
            "    return loop.run_until_complete(task)\n",
            "           ^^^^^^^^^^^^^^^^^^^^^^^^^^^^^\n",
            "  File \"/usr/local/lib/python3.11/dist-packages/nest_asyncio.py\", line 92, in run_until_complete\n",
            "    self._run_once()\n",
            "  File \"/usr/local/lib/python3.11/dist-packages/nest_asyncio.py\", line 133, in _run_once\n",
            "    handle._run()\n",
            "  File \"/usr/lib/python3.11/asyncio/events.py\", line 84, in _run\n",
            "    self._context.run(self._callback, *self._args)\n",
            "  File \"/usr/lib/python3.11/asyncio/tasks.py\", line 360, in __wakeup\n",
            "    self.__step()\n",
            "  File \"/usr/lib/python3.11/asyncio/tasks.py\", line 277, in __step\n",
            "    result = coro.send(None)\n",
            "             ^^^^^^^^^^^^^^^\n",
            "  File \"/usr/local/lib/python3.11/dist-packages/uvicorn/server.py\", line 69, in serve\n",
            "    with self.capture_signals():\n",
            "  File \"/usr/lib/python3.11/contextlib.py\", line 144, in __exit__\n",
            "    next(self.gen)\n",
            "  File \"/usr/local/lib/python3.11/dist-packages/uvicorn/server.py\", line 330, in capture_signals\n",
            "    signal.raise_signal(captured_signal)\n",
            "KeyboardInterrupt\n"
          ]
        },
        {
          "output_type": "stream",
          "name": "stdout",
          "text": [
            "INFO:     185.227.134.180:0 - \"POST /batch_sa_score HTTP/1.1\" 200 OK\n",
            "INFO:     117.50.223.91:0 - \"POST /batch_sa_score HTTP/1.1\" 200 OK\n",
            "INFO:     117.50.223.91:0 - \"POST /batch_sa_score HTTP/1.1\" 200 OK\n",
            "INFO:     117.50.223.91:0 - \"POST /check/batch HTTP/1.1\" 200 OK\n"
          ]
        },
        {
          "output_type": "stream",
          "name": "stderr",
          "text": [
            "[15:26:34] Explicit valence for atom # 3 N, 4, is greater than permitted\n"
          ]
        },
        {
          "output_type": "stream",
          "name": "stdout",
          "text": [
            "INFO:     117.50.223.91:0 - \"POST /batch_sa_score HTTP/1.1\" 200 OK\n"
          ]
        },
        {
          "output_type": "stream",
          "name": "stderr",
          "text": [
            "[16:06:34] Explicit valence for atom # 3 N, 4, is greater than permitted\n"
          ]
        },
        {
          "output_type": "stream",
          "name": "stdout",
          "text": [
            "INFO:     185.227.134.180:0 - \"POST /batch_sa_score HTTP/1.1\" 200 OK\n"
          ]
        },
        {
          "output_type": "stream",
          "name": "stderr",
          "text": [
            "[16:14:51] Explicit valence for atom # 1 N, 5, is greater than permitted\n",
            "[16:14:51] Explicit valence for atom # 1 N, 4, is greater than permitted\n",
            "[16:14:51] Explicit valence for atom # 1 N, 5, is greater than permitted\n",
            "[16:14:51] Explicit valence for atom # 6 N, 5, is greater than permitted\n",
            "[16:14:51] Explicit valence for atom # 1 N, 5, is greater than permitted\n"
          ]
        },
        {
          "output_type": "stream",
          "name": "stdout",
          "text": [
            "INFO:     117.50.223.91:0 - \"POST /batch_sa_score HTTP/1.1\" 200 OK\n",
            "INFO:     117.50.223.91:0 - \"POST /batch_sa_score HTTP/1.1\" 200 OK\n",
            "INFO:     117.50.223.91:0 - \"POST /batch_sa_score HTTP/1.1\" 200 OK\n"
          ]
        },
        {
          "output_type": "stream",
          "name": "stderr",
          "text": [
            "[16:19:31] Explicit valence for atom # 3 N, 4, is greater than permitted\n"
          ]
        },
        {
          "output_type": "stream",
          "name": "stdout",
          "text": [
            "INFO:     117.50.223.91:0 - \"POST /batch_sa_score HTTP/1.1\" 200 OK\n"
          ]
        },
        {
          "output_type": "stream",
          "name": "stderr",
          "text": [
            "[16:19:50] Explicit valence for atom # 3 N, 4, is greater than permitted\n",
            "[16:19:50] Explicit valence for atom # 4 N, 4, is greater than permitted\n"
          ]
        },
        {
          "output_type": "stream",
          "name": "stdout",
          "text": [
            "INFO:     117.50.223.91:0 - \"POST /check/batch HTTP/1.1\" 422 Unprocessable Entity\n",
            "INFO:     117.50.223.91:0 - \"POST /check/batch HTTP/1.1\" 422 Unprocessable Entity\n",
            "INFO:     117.50.223.91:0 - \"POST /check/batch HTTP/1.1\" 200 OK\n",
            "INFO:     117.50.223.91:0 - \"POST /batch_sa_score HTTP/1.1\" 200 OK\n",
            "INFO:     117.50.223.91:0 - \"POST /check/batch HTTP/1.1\" 200 OK\n"
          ]
        },
        {
          "output_type": "stream",
          "name": "stderr",
          "text": [
            "[16:26:42] Explicit valence for atom # 6 N, 4, is greater than permitted\n",
            "[16:26:42] Explicit valence for atom # 3 N, 4, is greater than permitted\n",
            "INFO:     Shutting down\n",
            "INFO:     Waiting for application shutdown.\n",
            "INFO:     Application shutdown complete.\n",
            "INFO:     Finished server process [209]\n"
          ]
        }
      ]
    }
  ],
  "metadata": {
    "colab": {
      "provenance": [],
      "authorship_tag": "ABX9TyM9tuzTKxOZvkK6p8E36qiZ",
      "include_colab_link": true
    },
    "kernelspec": {
      "display_name": "Python 3",
      "name": "python3"
    },
    "language_info": {
      "name": "python"
    }
  },
  "nbformat": 4,
  "nbformat_minor": 0
}